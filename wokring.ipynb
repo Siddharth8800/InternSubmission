{
 "cells": [
  {
   "cell_type": "code",
   "execution_count": 1,
   "metadata": {},
   "outputs": [],
   "source": [
    "import torch\n",
    "from pathlib import Path\n",
    "from llama_index import download_loader\n",
    "from llama_index.llms import LlamaCPP\n",
    "from llama_index.llms.llama_utils import messages_to_prompt, completion_to_prompt\n",
    "from llama_index import VectorStoreIndex, SimpleDirectoryReader\n",
    "from llama_index.llms import HuggingFaceLLM\n",
    "from llama_index.prompts import PromptTemplate\n",
    "from llama_index.prompts.prompts import SimpleInputPrompt\n",
    "from llama_index import ServiceContext\n",
    "from llama_index import StorageContext, load_index_from_storage\n",
    "from llama_index.embeddings import HuggingFaceEmbedding\n",
    "from IPython.display import Markdown, display\n",
    "\n",
    "\n",
    "import chromadb\n",
    "from llama_index.vector_stores import ChromaVectorStore\n"
   ]
  },
  {
   "cell_type": "code",
   "execution_count": 14,
   "metadata": {},
   "outputs": [
    {
     "name": "stdout",
     "output_type": "stream",
     "text": [
      "CUDA device: NVIDIA GeForce RTX 3090\n"
     ]
    }
   ],
   "source": [
    "if torch.cuda.is_available():\n",
    "    device = torch.cuda.get_device_name(0)\n",
    "    print(\"CUDA device:\", device)\n",
    "else:\n",
    "    print(\"CUDA is not available\")\n"
   ]
  },
  {
   "cell_type": "code",
   "execution_count": 2,
   "metadata": {},
   "outputs": [],
   "source": [
    "query_wrapper_prompt = PromptTemplate(\"<|USER|>{query_str}<|ASSISTANT|>\")\n",
    "system_prompt = \"You are a Q&A assistant. Your goal is to answer questions as accurately as possible based on the instructions and context provided.\""
   ]
  },
  {
   "cell_type": "code",
   "execution_count": 2,
   "metadata": {},
   "outputs": [
    {
     "name": "stderr",
     "output_type": "stream",
     "text": [
      "AVX = 1 | AVX2 = 1 | AVX512 = 0 | AVX512_VBMI = 0 | AVX512_VNNI = 0 | FMA = 1 | NEON = 0 | ARM_FMA = 0 | F16C = 1 | FP16_VA = 0 | WASM_SIMD = 0 | BLAS = 1 | SSE3 = 1 | SSSE3 = 0 | VSX = 0 | \n"
     ]
    },
    {
     "ename": "",
     "evalue": "",
     "output_type": "error",
     "traceback": [
      "\u001b[1;31mThe Kernel crashed while executing code in the the current cell or a previous cell. Please review the code in the cell(s) to identify a possible cause of the failure. Click <a href='https://aka.ms/vscodeJupyterKernelCrash'>here</a> for more info. View Jupyter <a href='command:jupyter.viewOutput'>log</a> for further details."
     ]
    }
   ],
   "source": [
    "llm = LlamaCPP(\n",
    "    model_path=\"./mistral-7b-instruct-v0.2.Q5_K_S.gguf\",\n",
    "    temperature=0.4,\n",
    "    max_new_tokens=512,\n",
    "    context_window=2048,\n",
    "    generate_kwargs={},\n",
    "    model_kwargs={\"n_gpu_layers\": -1},\n",
    "    messages_to_prompt=messages_to_prompt,\n",
    "    completion_to_prompt=completion_to_prompt,\n",
    "    verbose=True,\n",
    ")"
   ]
  },
  {
   "cell_type": "code",
   "execution_count": 4,
   "metadata": {},
   "outputs": [
    {
     "data": {
      "application/vnd.jupyter.widget-view+json": {
       "model_id": "5392b39d7bda49eb916924329bae2e35",
       "version_major": 2,
       "version_minor": 0
      },
      "text/plain": [
       "Loading checkpoint shards:   0%|          | 0/2 [00:00<?, ?it/s]"
      ]
     },
     "metadata": {},
     "output_type": "display_data"
    },
    {
     "name": "stderr",
     "output_type": "stream",
     "text": [
      "Special tokens have been added in the vocabulary, make sure the associated word embeddings are fine-tuned or trained.\n"
     ]
    }
   ],
   "source": [
    "# llm = HuggingFaceLLM(\n",
    "#     context_window=2048,\n",
    "#     max_new_tokens=256,\n",
    "#     system_prompt=system_prompt,\n",
    "#     generate_kwargs={},\n",
    "#     query_wrapper_prompt=query_wrapper_prompt,\n",
    "#     tokenizer_name=\"microsoft/phi-2\",\n",
    "#     model_name=\"microsoft/phi-2\",\n",
    "#     device_map=\"auto\",\n",
    "#     model_kwargs={\"torch_dtype\": torch.bfloat16},\n",
    "#     tokenizer_kwargs={\"max_length\": 2048},\n",
    "# )"
   ]
  },
  {
   "cell_type": "code",
   "execution_count": 3,
   "metadata": {},
   "outputs": [],
   "source": [
    "PDFReader = download_loader(\"PDFReader\")\n",
    "\n",
    "loader = PDFReader()\n",
    "documents = loader.load_data(file=Path('./input.pdf'))"
   ]
  },
  {
   "cell_type": "code",
   "execution_count": 3,
   "metadata": {},
   "outputs": [],
   "source": [
    "embed_model = HuggingFaceEmbedding(model_name=\"BAAI/bge-large-en-v1.5\")\n",
    "service_context = ServiceContext.from_defaults(\n",
    "    chunk_size=1024,\n",
    "    llm=llm,\n",
    "    embed_model=embed_model,\n",
    "    chunk_overlap=128,\n",
    ")"
   ]
  },
  {
   "cell_type": "code",
   "execution_count": 6,
   "metadata": {},
   "outputs": [],
   "source": [
    "index = VectorStoreIndex.from_documents(documents, service_context=service_context)"
   ]
  },
  {
   "cell_type": "code",
   "execution_count": 7,
   "metadata": {},
   "outputs": [],
   "source": [
    "query_engine = index.as_query_engine()"
   ]
  },
  {
   "cell_type": "code",
   "execution_count": 12,
   "metadata": {},
   "outputs": [
    {
     "name": "stderr",
     "output_type": "stream",
     "text": [
      "Llama.generate: prefix-match hit\n"
     ]
    }
   ],
   "source": [
    "response = query_engine.query(\"What's the point of making myself less accessible?\")"
   ]
  },
  {
   "cell_type": "code",
   "execution_count": 13,
   "metadata": {},
   "outputs": [
    {
     "data": {
      "text/markdown": [
       "<b> Based on the provided context from \"The 48 Laws of Power,\" there are several laws that suggest making oneself less accessible can be a strategic move. Here are some possible reasons:\n",
       "\n",
       "1. The Mirror Effect (Law 2): By being less accessible, you may reflect the innermost feelings of those around you who crave your attention and time. This can make them feel more connected to you and increase their loyalty.\n",
       "2. Envy (Law 45 and Law 46): Making yourself less accessible can create an air of mystery and exclusivity, which can fuel envy in others. By revealing weaknesses or imperfections, you may deflect envy and maintain a more positive relationship with those around you.\n",
       "3. Playing to People's Fantasies (Law 32): Being less accessible can add an element of allure and intrigue, making people want to know more about you and potentially fueling their fantasies.\n",
       "4. Discover Each Man's Thumbscrew (Law 33): Understanding someone's weaknesses or insecurities can give you leverage in a relationship or interaction. By being less accessible, you may be able to use this knowledge to your advantage while maintaining a sense of mystery.\n",
       "5. Be Royal in Your Own Fashion (Law 34): Exuding confidence and an air of exclusivity can help you command respect and be treated like a king or queen. Being less accessible can contribute to this image.</b>"
      ],
      "text/plain": [
       "<IPython.core.display.Markdown object>"
      ]
     },
     "metadata": {},
     "output_type": "display_data"
    }
   ],
   "source": [
    "display(Markdown(f\"<b>{response}</b>\"))"
   ]
  },
  {
   "cell_type": "code",
   "execution_count": 15,
   "metadata": {},
   "outputs": [],
   "source": [
    "index.storage_context.persist()"
   ]
  },
  {
   "cell_type": "code",
   "execution_count": null,
   "metadata": {},
   "outputs": [],
   "source": [
    "#ChromaDB"
   ]
  },
  {
   "cell_type": "code",
   "execution_count": 4,
   "metadata": {},
   "outputs": [],
   "source": [
    "chroma_client = chromadb.EphemeralClient()\n",
    "chroma_collection = chroma_client.create_collection(\"laws_of_power\")"
   ]
  },
  {
   "cell_type": "code",
   "execution_count": 6,
   "metadata": {},
   "outputs": [],
   "source": [
    "vector_store = ChromaVectorStore(chroma_collection=chroma_collection)\n",
    "storage_context = StorageContext.from_defaults(vector_store=vector_store)\n",
    "\n",
    "index = VectorStoreIndex.from_documents(documents,\n",
    "                                        storage_context=storage_context,\n",
    "                                        service_context=service_context)"
   ]
  },
  {
   "cell_type": "code",
   "execution_count": 7,
   "metadata": {},
   "outputs": [
    {
     "name": "stderr",
     "output_type": "stream",
     "text": [
      "Llama.generate: prefix-match hit\n"
     ]
    },
    {
     "data": {
      "text/markdown": [
       "<b> According to \"The 48 Laws of Power\" book, there isn't a specific law or story dedicated to Queen Elizabeth I in the text provided. However, there is a reference to her in Law 43, \"Work on the Hearts and Minds of Others,\" under the subsection \"Transgression of the Law.\" The example given in the context of this law describes how Emperor Sung of China was able to turn his enemies into loyal friends, and another example mentions Michael III of the Byzantine Empire who placed too much trust in his friend Basilius. In contrast, Queen Elizabeth I is suggested as a successful monarch who won the hearts and minds of others by being mindful of their emotions and responding appropriately, as mentioned earlier. The text does not go into detail about specific events or actions she took to accomplish this, but it implies that her ability to connect with people and respond to their needs effectively was a key factor in her success.</b>"
      ],
      "text/plain": [
       "<IPython.core.display.Markdown object>"
      ]
     },
     "metadata": {},
     "output_type": "display_data"
    }
   ],
   "source": [
    "query_engine = index.as_query_engine()\n",
    "response = query_engine.query(\"Can you tell me the story of Queen Elizabeth I from this 48 laws of power book?\")\n",
    "display(Markdown(f\"<b>{response}</b>\"))"
   ]
  },
  {
   "cell_type": "code",
   "execution_count": 5,
   "metadata": {},
   "outputs": [],
   "source": [
    "db = chromadb.PersistentClient(path=\"./chroma_db\")\n",
    "chroma_collection = db.get_or_create_collection(\"laws_of_power\")\n",
    "\n",
    "vector_store = ChromaVectorStore(chroma_collection=chroma_collection)\n",
    "storage_context = StorageContext.from_defaults(vector_store=vector_store)\n",
    "service_context = ServiceContext.from_defaults(embed_model=embed_model,\n",
    "                                               llm=llm,\n",
    "                                               chunk_size=1024,\n",
    "                                               chunk_overlap=128)\n",
    "\n",
    "index = VectorStoreIndex.from_documents(\n",
    "    documents, storage_context=storage_context, service_context=service_context\n",
    ")"
   ]
  },
  {
   "cell_type": "code",
   "execution_count": 6,
   "metadata": {},
   "outputs": [
    {
     "data": {
      "text/markdown": [
       " Based on the provided context from \"The 48 Laws of Power,\" there are several reasons suggested for making oneself less accessible. According to Law 32, \"Play to People's Fantasies,\" people have a need for fantasies and the more vague and exotic they are, the more captivating. By keeping a certain distance and being less accessible, you can maintain the mystery and allure that comes with those fantasies. Additionally, as per Law 33, \"Discover Each Man's Thumbscrew,\" every person has a weakness or insecurity, and by being less accessible, you may make it more difficult for others to discover your own weaknesses or vulnerabilities. Lastly, according to Law 47, \"Do Not Go Past the Mark You Aimed For; In Victory, Learn When To Stop,\" being less accessible can also help in controlling the pace and outcome of interactions, allowing you to maintain power and influence."
      ],
      "text/plain": [
       "<IPython.core.display.Markdown object>"
      ]
     },
     "metadata": {},
     "output_type": "display_data"
    }
   ],
   "source": [
    "query_engine = index.as_query_engine()\n",
    "\n",
    "response = query_engine.query(\"What's the point of making myself less accessible?\")\n",
    "\n",
    "display(Markdown(f\"{response}\"))"
   ]
  },
  {
   "cell_type": "code",
   "execution_count": 4,
   "metadata": {},
   "outputs": [],
   "source": [
    "db2 = chromadb.PersistentClient(path=\"./chroma_db\")\n",
    "\n",
    "chroma_collection = db2.get_or_create_collection(\"laws_of_power\")\n",
    "\n",
    "vector_store = ChromaVectorStore(chroma_collection=chroma_collection)\n",
    "\n",
    "index = VectorStoreIndex.from_vector_store(\n",
    "    vector_store,\n",
    "    service_context=service_context,\n",
    ")"
   ]
  },
  {
   "cell_type": "code",
   "execution_count": 8,
   "metadata": {},
   "outputs": [
    {
     "name": "stderr",
     "output_type": "stream",
     "text": [
      "Llama.generate: prefix-match hit\n",
      "Llama.generate: prefix-match hit\n"
     ]
    },
    {
     "data": {
      "text/markdown": [
       " The 48 Laws of Power book mentions Queen Elizabeth I in relation to Law 43, \"Work on the Hearts and Minds of Others.\" While the book doesn't tell a comprehensive story about her life, it highlights how Elizabeth I used her charisma and emotional intelligence to maintain power and win over her subjects.\n",
       "\n",
       "Elizabeth I ascended the throne in 1558 after a period of political instability during which England saw multiple rulers. Her ability to connect with her people was crucial for maintaining stability and securing her position. In contrast, Marie-Antoinette, Queen Elizabeth I's successor, faced the opposite fate due to her lavish lifestyle and disconnection from her people.\n",
       "\n",
       "The book uses the example of Emperor Sung of China in 959 A.D., who turned his enemies into loyal friends by persuading them to retire and granting them noble titles. Queen Elizabeth I employed a similar tactic, using patronage and favoritism to win over influential figures and maintain their loyalty. She also made sure to present herself as a benevolent ruler, distributing gifts and pardons to her subjects.\n",
       "\n",
       "In the context of Law 43, the book emphasizes the importance of understanding the emotions and desires of those around you in order to manipulate them to your advantage. Elizabeth I's ability to connect with her people on an emotional level allowed her to maintain power and secure her position as a beloved and effective monarch."
      ],
      "text/plain": [
       "<IPython.core.display.Markdown object>"
      ]
     },
     "metadata": {},
     "output_type": "display_data"
    }
   ],
   "source": [
    "query_engine = index.as_query_engine()\n",
    "\n",
    "response = query_engine.query(\"Can you tell me the story of Queen Elizabeth I from this 48 laws of power book?\")\n",
    "\n",
    "display(Markdown(f\"{response}\"))"
   ]
  },
  {
   "cell_type": "code",
   "execution_count": null,
   "metadata": {},
   "outputs": [],
   "source": []
  }
 ],
 "metadata": {
  "kernelspec": {
   "display_name": "trainLM",
   "language": "python",
   "name": "python3"
  },
  "language_info": {
   "codemirror_mode": {
    "name": "ipython",
    "version": 3
   },
   "file_extension": ".py",
   "mimetype": "text/x-python",
   "name": "python",
   "nbconvert_exporter": "python",
   "pygments_lexer": "ipython3",
   "version": "3.10.13"
  }
 },
 "nbformat": 4,
 "nbformat_minor": 2
}
